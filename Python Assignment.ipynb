{
 "cells": [
  {
   "cell_type": "markdown",
   "id": "5729c370",
   "metadata": {},
   "source": [
    "# Rishabh Patadia - 200496110"
   ]
  },
  {
   "cell_type": "markdown",
   "id": "e6165c12",
   "metadata": {},
   "source": [
    "# Question 6"
   ]
  },
  {
   "cell_type": "code",
   "execution_count": 1,
   "id": "a3720e44",
   "metadata": {
    "scrolled": true
   },
   "outputs": [
    {
     "name": "stdout",
     "output_type": "stream",
     "text": [
      "Enter a name: happy\n",
      "appyhay\n"
     ]
    }
   ],
   "source": [
    "vowels = ['a', 'e', 'i', 'o', 'u']\n",
    "name = input(\"Enter a name: \")\n",
    "if (name[0] in vowels):\n",
    "    name = name + \"way\"\n",
    "else:\n",
    "    name = name + name[0] + 'ay'\n",
    "    name = list(name)\n",
    "    name.pop(0)\n",
    "    name = ''.join(name)\n",
    "print(name)"
   ]
  },
  {
   "cell_type": "markdown",
   "id": "29b71f1e",
   "metadata": {},
   "source": [
    "# Question 7"
   ]
  },
  {
   "cell_type": "code",
   "execution_count": 2,
   "id": "5f933663",
   "metadata": {},
   "outputs": [
    {
     "name": "stdout",
     "output_type": "stream",
     "text": [
      "AB AB B O A A AB O AB A O O A A A O O O AB O A A A A A AB AB A AB O AB O A O O O AB O AB AB AB A A O \n",
      "{'AB': 13, 'B': 1, 'O': 15, 'A': 15}\n"
     ]
    }
   ],
   "source": [
    "with open(\"C:/Users/Rishabh/Downloads/bloodtype1.txt\") as f:\n",
    "    contents = f.readlines()\n",
    "contents = contents[0].replace(\"\\n\", '')\n",
    "print(contents)\n",
    "dictOfBlood = {}\n",
    "contents = contents.split()\n",
    "for i in contents:\n",
    "    if i not in dictOfBlood.keys():\n",
    "        dictOfBlood[i] = 1\n",
    "    else:\n",
    "        dictOfBlood[i] += 1\n",
    "print(dictOfBlood)"
   ]
  },
  {
   "cell_type": "markdown",
   "id": "a4d19f70",
   "metadata": {},
   "source": [
    "# Question 8"
   ]
  },
  {
   "cell_type": "code",
   "execution_count": 3,
   "id": "21415420",
   "metadata": {
    "scrolled": true
   },
   "outputs": [
    {
     "name": "stdout",
     "output_type": "stream",
     "text": [
      "{'AUD': 1.0345157, 'CHF': 1.0237414, 'CNY': 0.1550176, 'DKK': 0.1651442, 'EUR': 1.2296544, 'GBP': 1.5550989, 'HKD': 0.1270207, 'INR': 0.0177643, 'JPY': 0.01241401, 'MXN': 0.0751848, 'MYR': 0.3145411, 'NOK': 0.1677063, 'NZD': 0.8003591, 'PHP': 0.0233234, 'SEK': 0.148269, 'SGD': 0.788871, 'THB': 0.0313789}\n",
      "Enter a currency followed by value seperated with spacenok 12\n",
      "2.0124756\n"
     ]
    }
   ],
   "source": [
    "with open(\"C:/Users/Rishabh/Downloads/currencies.txt\") as f:\n",
    "    contents = f.readlines()\n",
    "# print(contents)\n",
    "store = {}\n",
    "for i in contents:\n",
    "#     p\n",
    "    s = i.split(\"\\t\")\n",
    "    store[s[0]] = float(s[1])\n",
    "print(store)\n",
    "\n",
    "def curconv(curr, value):\n",
    "    curr = curr.upper()\n",
    "    print(value * store[curr])\n",
    "\n",
    "ip = input(\"Enter a currency followed by value seperated with space\")\n",
    "ip = ip.split()\n",
    "curconv(ip[0], float(ip[1]))"
   ]
  },
  {
   "cell_type": "markdown",
   "id": "f097d4a9",
   "metadata": {},
   "source": [
    "# Question 9\n",
    "1. adding string to integer\n",
    "2. index out of range\n",
    "3. square root of negative number\n",
    "4. variable not defined\n",
    "5. file not found error"
   ]
  },
  {
   "cell_type": "markdown",
   "id": "27c9881c",
   "metadata": {},
   "source": [
    "# Question 10"
   ]
  },
  {
   "cell_type": "code",
   "execution_count": 8,
   "id": "1030d2ee",
   "metadata": {},
   "outputs": [
    {
     "name": "stdout",
     "output_type": "stream",
     "text": [
      "Enter a text: this is \n",
      "[0, 0, 0, 0, 0, 0, 0, 1, 2, 0, 0, 0, 0, 0, 0, 0, 0, 0, 2, 1, 0, 0, 0, 0, 0, 0]\n"
     ]
    }
   ],
   "source": [
    "text = input(\"Enter a text: \")\n",
    "text = \"\".join(text.split())\n",
    "text = text.upper()\n",
    "text = list(text)\n",
    "frequencies = [0 for i in range(26)]\n",
    "for i in text:\n",
    "    frequencies[ord(i)%65] += 1\n",
    "\n",
    "print(frequencies)\n"
   ]
  }
 ],
 "metadata": {
  "kernelspec": {
   "display_name": "Python 3 (ipykernel)",
   "language": "python",
   "name": "python3"
  },
  "language_info": {
   "codemirror_mode": {
    "name": "ipython",
    "version": 3
   },
   "file_extension": ".py",
   "mimetype": "text/x-python",
   "name": "python",
   "nbconvert_exporter": "python",
   "pygments_lexer": "ipython3",
   "version": "3.9.7"
  }
 },
 "nbformat": 4,
 "nbformat_minor": 5
}
