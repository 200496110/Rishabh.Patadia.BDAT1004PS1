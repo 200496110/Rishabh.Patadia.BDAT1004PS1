{
 "cells": [
  {
   "cell_type": "markdown",
   "id": "09706561",
   "metadata": {},
   "source": [
    "# Rishabh Patadia - 200496110"
   ]
  },
  {
   "cell_type": "markdown",
   "id": "48d8115e",
   "metadata": {},
   "source": [
    "# Question 1"
   ]
  },
  {
   "cell_type": "code",
   "execution_count": 45,
   "id": "70bf018e",
   "metadata": {},
   "outputs": [],
   "source": [
    "var a = 5;\n",
    "var b = 5.0;\n",
    "var c = 5 > 1;\n",
    "var d = '5';\n",
    "var e = 5 * 2;\n",
    "var f = '5' * 2;\n",
    "var g = '5' + '2';\n",
    "var h = 5 / 2;\n",
    "var i = 5 % 2;\n",
    "var j = new[] {5, 2, 1};\n",
    "var k = 5 == 3;\n",
    "var l = Math.PI;"
   ]
  },
  {
   "cell_type": "code",
   "execution_count": 58,
   "id": "a63dd6f4",
   "metadata": {
    "scrolled": true
   },
   "outputs": [
    {
     "name": "stdout",
     "output_type": "stream",
     "text": [
      "Eqn: a = 5, Ans: System.Int32, Evaluation: 5\n",
      "Eqn: b = 5.0, Ans: System.Double, Evaluation: 5\n",
      "Eqn: c = 5 > 1, Ans: System.Boolean, Evaluation: True\n",
      "Eqn: d = '5', Ans: System.Char, Evaluation: 5\n",
      "Eqn: e = 5 * 2, Ans: System.Int32, Evaluation: 10\n",
      "Eqn: f = '5' * 2, Ans: System.Int32, Evaluation: 106\n",
      "Eqn: g = '5' + '2', Ans: System.Int32, Evaluation: 103\n",
      "Eqn: h = 5 / 2, Ans: System.Int32, Evaluation: 2\n",
      "Eqn: i = 5 % 2, Ans: System.Int32, Evaluation: 1\n",
      "Eqn: j = new[] {5, 2, 1}, Ans: System.Int32[], Evaluation: System.Int32[]\n",
      "Eqn: k = 5 == 3, Ans: System.Boolean, Evaluation: False\n",
      "Eqn: l = Math.PI, Ans: System.Double, Evaluation: 3.141592653589793\n"
     ]
    }
   ],
   "source": [
    "Console.WriteLine(\"Eqn: a = 5, Ans: {0}, Evaluation: {1}\", a.GetType(), a );\n",
    "Console.WriteLine(\"Eqn: b = 5.0, Ans: {0}, Evaluation: {1}\", b.GetType(), b );\n",
    "Console.WriteLine(\"Eqn: c = 5 > 1, Ans: {0}, Evaluation: {1}\", c.GetType(), c );\n",
    "Console.WriteLine(\"Eqn: d = '5', Ans: {0}, Evaluation: {1}\", d.GetType(), d );\n",
    "Console.WriteLine(\"Eqn: e = 5 * 2, Ans: {0}, Evaluation: {1}\", e.GetType(), e );\n",
    "Console.WriteLine(\"Eqn: f = '5' * 2, Ans: {0}, Evaluation: {1}\", f.GetType(), f );\n",
    "Console.WriteLine(\"Eqn: g = '5' + '2', Ans: {0}, Evaluation: {1}\", g.GetType(), g );\n",
    "Console.WriteLine(\"Eqn: h = 5 / 2, Ans: {0}, Evaluation: {1}\", h.GetType(), h );\n",
    "Console.WriteLine(\"Eqn: i = 5 % 2, Ans: {0}, Evaluation: {1}\", i.GetType(), i );\n",
    "Console.WriteLine(\"Eqn: j = new[] {{5, 2, 1}}, Ans: {0}, Evaluation: {1}\", j.GetType(), j );\n",
    "Console.WriteLine(\"Eqn: k = 5 == 3, Ans: {0}, Evaluation: {1}\", k.GetType(), k );\n",
    "Console.WriteLine(\"Eqn: l = Math.PI, Ans: {0}, Evaluation: {1}\", l.GetType(), l );\n"
   ]
  },
  {
   "cell_type": "markdown",
   "id": "47c289a6",
   "metadata": {},
   "source": [
    "# Question 2"
   ]
  },
  {
   "cell_type": "code",
   "execution_count": 69,
   "id": "516d65ca",
   "metadata": {
    "scrolled": true
   },
   "outputs": [
    {
     "name": "stdout",
     "output_type": "stream",
     "text": [
      "The length of 'Supercalifragilisticexpialidocious' is 34 characters.\r\n"
     ]
    }
   ],
   "source": [
    "var q2a = \"Supercalifragilisticexpialidocious\";\n",
    "Console.WriteLine(\"The length of 'Supercalifragilisticexpialidocious' is {0} characters.\", q2a.Length);"
   ]
  },
  {
   "cell_type": "code",
   "execution_count": 71,
   "id": "cc4d6fac",
   "metadata": {
    "scrolled": true
   },
   "outputs": [
    {
     "name": "stdout",
     "output_type": "stream",
     "text": [
      "'Supercalifragilisticexpialidocious' contains 'ice': True\r\n"
     ]
    }
   ],
   "source": [
    "Console.WriteLine(\"'Supercalifragilisticexpialidocious' contains 'ice': {0}\", q2a.Contains(\"ice\"));"
   ]
  },
  {
   "cell_type": "code",
   "execution_count": 91,
   "id": "9398c44a",
   "metadata": {},
   "outputs": [
    {
     "name": "stdout",
     "output_type": "stream",
     "text": [
      "The string with maximum length=34 is 'Supercalifragilisticexpialidocious'\r\n"
     ]
    }
   ],
   "source": [
    "string[] ListOfString = {\n",
    "\"Supercalifragilisticexpialidocious\",\n",
    "\"Honorificabilitudinitatibus\",\n",
    "\"Bababadalgharaghtakamminarronnkonn\"\n",
    "};\n",
    "\n",
    "int maxL = 0;\n",
    "string maxS = \"\";\n",
    "for(int _ = 0; _ < ListOfString.Length; _++){\n",
    "    if(ListOfString[_].Length > maxL){\n",
    "    maxL = ListOfString[_].Length;\n",
    "    maxS = ListOfString[_];\n",
    "    }\n",
    "}\n",
    "Console.WriteLine(\"The string with maximum length={0} is '{1}'\", maxL, maxS )\n"
   ]
  },
  {
   "cell_type": "code",
   "execution_count": 95,
   "id": "7cb53d5c",
   "metadata": {
    "scrolled": false
   },
   "outputs": [
    {
     "name": "stdout",
     "output_type": "stream",
     "text": [
      "The first value in a \n",
      "dictionary = {'Berlioz', 'Borodin', 'Brian','Bartok', 'Bellini', 'Buxtehude', 'Bernstein'} \n",
      "is 'Bartok'.\r\n"
     ]
    }
   ],
   "source": [
    "string[] values =  {\"Berlioz\", \"Borodin\", \"Brian\", \"Bartok\", \"Bellini\", \"Buxtehude\", \"Bernstein\"};\n",
    "Array.Sort(values);\n",
    "Console.WriteLine(\"The first value in a \\ndictionary = {{'Berlioz', 'Borodin', 'Brian','Bartok', 'Bellini', 'Buxtehude', 'Bernstein'}} \\nis '{0}'.\", values[0])"
   ]
  },
  {
   "cell_type": "markdown",
   "id": "da6a2475",
   "metadata": {},
   "source": [
    "# Question 3"
   ]
  },
  {
   "cell_type": "code",
   "execution_count": 116,
   "id": "492dfb3a",
   "metadata": {},
   "outputs": [
    {
     "name": "stdout",
     "output_type": "stream",
     "text": [
      "Enter side a\n",
      "Enter side b\n",
      "Enter side c\n",
      "0\n"
     ]
    }
   ],
   "source": [
    "public void triangleArea(int a, int b, int c)\n",
    "{\n",
    "    double s = (a+b+c)/2.0;\n",
    "    double result = Math.Sqrt(s*(s-a)*(s-b)*(s-c));\n",
    "    Console.WriteLine(result);\n",
    "}\n",
    "int a,b,c;\n",
    "Console.WriteLine(\"Enter side a\");\n",
    "a = Convert.ToInt32(Console.ReadLine());\n",
    "Console.WriteLine(\"Enter side b\");\n",
    "b = Convert.ToInt32(Console.ReadLine());\n",
    "Console.WriteLine(\"Enter side c\");\n",
    "c = Convert.ToInt32(Console.ReadLine());\n",
    "\n",
    "triangleArea(a,b,c);\n"
   ]
  },
  {
   "cell_type": "code",
   "execution_count": null,
   "id": "df427169",
   "metadata": {},
   "outputs": [],
   "source": []
  }
 ],
 "metadata": {
  "kernelspec": {
   "display_name": ".NET (C#)",
   "language": "C#",
   "name": ".net-csharp"
  },
  "language_info": {
   "file_extension": ".cs",
   "mimetype": "text/x-csharp",
   "name": "C#",
   "pygments_lexer": "csharp",
   "version": "9.0"
  }
 },
 "nbformat": 4,
 "nbformat_minor": 5
}
